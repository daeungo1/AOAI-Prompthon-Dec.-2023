{
 "cells": [
  {
   "cell_type": "markdown",
   "metadata": {
    "nteract": {
     "transient": {
      "deleting": false
     }
    }
   },
   "source": [
    "# 02_고급 기능"
   ]
  },
  {
   "cell_type": "markdown",
   "metadata": {
    "nteract": {
     "transient": {
      "deleting": false
     }
    }
   },
   "source": [
    "## 1. OpenAI 라이브러리 설치 확인"
   ]
  },
  {
   "cell_type": "code",
   "execution_count": null,
   "metadata": {
    "gather": {
     "logged": 1674254990318
    },
    "jupyter": {
     "outputs_hidden": true,
     "source_hidden": false
    },
    "nteract": {
     "transient": {
      "deleting": false
     }
    }
   },
   "outputs": [],
   "source": [
    "# !pip install openai python-dotenv"
   ]
  },
  {
   "cell_type": "markdown",
   "metadata": {
    "nteract": {
     "transient": {
      "deleting": false
     }
    }
   },
   "source": [
    "## 2. OpenAI 정보 읽기"
   ]
  },
  {
   "cell_type": "code",
   "execution_count": null,
   "metadata": {
    "gather": {
     "logged": 1674829434433
    },
    "jupyter": {
     "outputs_hidden": false,
     "source_hidden": false
    },
    "nteract": {
     "transient": {
      "deleting": false
     }
    }
   },
   "outputs": [],
   "source": [
    "import os\n",
    "import openai\n",
    "from dotenv import load_dotenv, find_dotenv\n",
    "dotenv_path = find_dotenv(filename='././.env')\n",
    "load_dotenv(dotenv_path=dotenv_path)\n",
    "\n",
    "openai.api_type = \"azure\"\n",
    "openai.api_version = os.getenv(\"OPENAI_API_VERSION\",\"\").strip()\n",
    "\n",
    "API_KEY = os.getenv(\"OPENAI_API_KEY\",\"\").strip()\n",
    "assert API_KEY, \"ERROR: Azure OpenAI Key is missing\"\n",
    "openai.api_key = API_KEY\n",
    "\n",
    "RESOURCE_ENDPOINT = os.getenv(\"OPENAI_API_BASE\",\"\").strip()\n",
    "assert RESOURCE_ENDPOINT, \"ERROR: Azure OpenAI Endpoint is missing\"\n",
    "assert \"openai.azure.com\" in RESOURCE_ENDPOINT.lower(), \"ERROR: Azure OpenAI Endpoint should be in the form: \\n\\n\\t<your unique endpoint identifier>.openai.azure.com\"\n",
    "openai.api_base = RESOURCE_ENDPOINT\n",
    "\n",
    "model=os.getenv('DEPLOYMENT_NAME')"
   ]
  },
  {
   "cell_type": "markdown",
   "metadata": {},
   "source": [
    "## 3. Chain of Thought"
   ]
  },
  {
   "cell_type": "code",
   "execution_count": null,
   "metadata": {},
   "outputs": [],
   "source": [
    "def call_openai_api(messages, max_token=100, stop=None, n=1, temperature=0.1):\n",
    "    response = openai.ChatCompletion.create(\n",
    "        engine=model,\n",
    "        messages=messages,\n",
    "        temperature=temperature,\n",
    "        max_tokens=max_token,\n",
    "        stop=stop,\n",
    "        n=n,\n",
    "    )\n",
    "    return response"
   ]
  },
  {
   "cell_type": "markdown",
   "metadata": {},
   "source": [
    "#### This prompt gets wrong answer"
   ]
  },
  {
   "cell_type": "code",
   "execution_count": null,
   "metadata": {},
   "outputs": [],
   "source": [
    "PROMPT_ZERO_SHOT = \"\"\"A juggler can juggle 16 balls. Half of the balls are golf balls,\n",
    "and half of the golf balls are blue. How many blue golf balls are there?\n",
    "\"\"\"\n",
    "messages=[\n",
    "    {\"role\": \"user\", \"content\": PROMPT_ZERO_SHOT},\n",
    "    {\"role\": \"assistant\", \"content\": \"The answer (arabic numerals) is \"},\n",
    "]\n",
    "\n",
    "response = call_openai_api(messages, temperature=0, max_token=100)\n",
    "\n",
    "print(response['choices'][0][\"message\"][\"content\"])"
   ]
  },
  {
   "cell_type": "markdown",
   "metadata": {},
   "source": [
    "#### With CoT, the answer is correct"
   ]
  },
  {
   "cell_type": "code",
   "execution_count": null,
   "metadata": {},
   "outputs": [],
   "source": [
    "PROMPT_ZERO_SHOT_CoT = \"\"\"Q: A juggler can juggle 16 balls. Half of the balls are golf balls,\n",
    "and half of the golf balls are blue. How many blue golf balls are\n",
    "there?\n",
    "A: Let's think step by step.\n",
    "\"\"\"\n",
    "\n",
    "messages=[\n",
    "    {\"role\": \"user\", \"content\": PROMPT_ZERO_SHOT_CoT},\n",
    "]\n",
    "\n",
    "response = call_openai_api(messages, temperature=0, max_token=100)\n",
    "\n",
    "print(response['choices'][0][\"message\"][\"content\"])"
   ]
  },
  {
   "cell_type": "markdown",
   "metadata": {},
   "source": [
    "#### Can be wrong answer with few-shot learning"
   ]
  },
  {
   "cell_type": "code",
   "execution_count": null,
   "metadata": {},
   "outputs": [],
   "source": [
    "messages=[\n",
    "    {\"role\": \"system\", \"content\": \"Generate next conversation.\"},\n",
    "    {\"role\": \"user\", \"content\": \"Q: Roger has 5 tennis balss. He buys 2 more cans of tennis balls. Each can has 3 tennis balls. How many tennis balls does Roger have now?\"},\n",
    "    {\"role\": \"assistant\", \"content\": \"A: The answer is 11.\"},\n",
    "    {\"role\": \"user\", \"content\": \"Q: A juggler can juggle 16 balls. Half of the balls are golf balls and half of the golf balls are blue. How many blue golf balls are there?\"},\n",
    "]\n",
    "\n",
    "response = call_openai_api(messages, temperature=0, max_token=100)\n",
    "\n",
    "print(response['choices'][0][\"message\"][\"content\"])"
   ]
  },
  {
   "cell_type": "markdown",
   "metadata": {},
   "source": [
    "#### With few-show CoT, the answer is correct"
   ]
  },
  {
   "cell_type": "code",
   "execution_count": null,
   "metadata": {},
   "outputs": [],
   "source": [
    "messages=[\n",
    "    {\"role\": \"user\", \"content\": \"\"\"Roger has 5 tennis balls. He buys 2 more cans of tennis balls. Each can has 3 tennis balls. How many tennis balls does he have now?\"\"\"},\n",
    "    {\"role\": \"assistant\", \"content\": \"\"\"Roger started with 5 balls.\\n 2 cans of 3 tennis balls each is 6 tennis balls.\\n 5 + 6 = 11. \\n The answer is 11.\"\"\"},\n",
    "    {\"role\": \"user\", \"content\": \"\"\"A juggler can juggle 16 balls. Half of the balls are golf balls, and half of the golf balls are blue. How many blue golf balls are there?\"\"\"},\n",
    "]\n",
    "\n",
    "response = call_openai_api(messages, temperature=0, max_token=100)\n",
    "\n",
    "print(response['choices'][0][\"message\"][\"content\"])"
   ]
  },
  {
   "cell_type": "markdown",
   "metadata": {
    "nteract": {
     "transient": {
      "deleting": false
     }
    }
   },
   "source": [
    "## 4. SQL"
   ]
  },
  {
   "cell_type": "markdown",
   "metadata": {},
   "source": [
    "### SQL 생성"
   ]
  },
  {
   "cell_type": "code",
   "execution_count": null,
   "metadata": {},
   "outputs": [],
   "source": [
    "prompt = \"### Postgres SQL tables, with their properties:\\n#\\n# Employee(id, name, department_id)\\n# Department(id, name, address)\\n# Salary_Payments(id, employee_id, amount, date)\\n#\\n### A query to list the names of the departments which employed more than 10 employees in the last 3 months\\n\\n query: \"\n",
    "print(prompt)"
   ]
  },
  {
   "cell_type": "code",
   "execution_count": null,
   "metadata": {
    "gather": {
     "logged": 1674494935186
    },
    "jupyter": {
     "outputs_hidden": false,
     "source_hidden": false
    },
    "nteract": {
     "transient": {
      "deleting": false
     }
    }
   },
   "outputs": [],
   "source": [
    "response = openai.ChatCompletion.create(\n",
    "  engine=model,\n",
    "  messages = [{\"role\":\"system\", \"content\":\"You are a helpful assistant.\"},\n",
    "               {\"role\":\"user\",\"content\": prompt}],\n",
    "  temperature=0,\n",
    "  max_tokens=150,\n",
    "  top_p=1,\n",
    "  frequency_penalty=0,\n",
    "  presence_penalty=0,\n",
    "  stop=[\"#\",\";\"])\n",
    "print(response['choices'][0]['message']['content'])"
   ]
  },
  {
   "cell_type": "markdown",
   "metadata": {
    "nteract": {
     "transient": {
      "deleting": false
     }
    }
   },
   "source": [
    "### SQL 해석"
   ]
  },
  {
   "cell_type": "code",
   "execution_count": null,
   "metadata": {
    "gather": {
     "logged": 1674494940872
    },
    "jupyter": {
     "outputs_hidden": false,
     "source_hidden": false
    },
    "nteract": {
     "transient": {
      "deleting": false
     }
    }
   },
   "outputs": [],
   "source": [
    "code = \"Can you explain what does this code do?\\n#\\n# ###\\n\\\n",
    "   Code:\\n\\\n",
    "   SELECT d.name FROM Department d JOIN Employee e ON d.id = e.department_id WHERE e.id IN (SELECT employee_id FROM Salary_Payments WHERE date > now() - interval '3 months') GROUP BY d.name HAVING COUNT(*) > 10\\n#\\n#\\\n",
    "   Answer:\\n# \"\n",
    "print(code)"
   ]
  },
  {
   "cell_type": "code",
   "execution_count": null,
   "metadata": {},
   "outputs": [],
   "source": [
    "response = openai.ChatCompletion.create(\n",
    "  engine=model,\n",
    "  messages = [{\"role\":\"system\", \"content\":\"You are a helpful assistant.\"},\n",
    "               {\"role\":\"user\",\"content\": code}],\n",
    "  temperature=0,\n",
    "  max_tokens=500,\n",
    "  top_p=1,\n",
    "  frequency_penalty=0,\n",
    "  presence_penalty=0,\n",
    "  stop=[\"#\",\";\"])\n",
    "print(response['choices'][0]['message']['content'])"
   ]
  },
  {
   "cell_type": "markdown",
   "metadata": {},
   "source": [
    "### SQL 실제 사용 사례"
   ]
  },
  {
   "cell_type": "code",
   "execution_count": null,
   "metadata": {},
   "outputs": [],
   "source": [
    "query = '''\n",
    "Given the following SQL tables, your job is to write queries given a user’s request.\n",
    "\n",
    "CREATE TABLE Orders (\n",
    "  OrderID int,\n",
    "  CustomerID int,\n",
    "  OrderDate datetime,\n",
    "  OrderTime varchar(8),\n",
    "  PRIMARY KEY (OrderID)\n",
    ");\n",
    "\n",
    "CREATE TABLE OrderDetails (\n",
    "  OrderDetailID int,\n",
    "  OrderID int,\n",
    "  ProductID int,\n",
    "  Quantity int,\n",
    "  PRIMARY KEY (OrderDetailID)\n",
    ");\n",
    "\n",
    "CREATE TABLE Products (\n",
    "  ProductID int,\n",
    "  ProductName varchar(50),\n",
    "  Category varchar(50),\n",
    "  UnitPrice decimal(10, 2),\n",
    "  Stock int,\n",
    "  PRIMARY KEY (ProductID)\n",
    ");\n",
    "\n",
    "CREATE TABLE Customers (\n",
    "  CustomerID int,\n",
    "  FirstName varchar(50),\n",
    "  LastName varchar(50),\n",
    "  Email varchar(100),\n",
    "  Phone varchar(20),\n",
    "  PRIMARY KEY (CustomerID)\n",
    ");\n",
    "'''"
   ]
  },
  {
   "cell_type": "code",
   "execution_count": null,
   "metadata": {},
   "outputs": [],
   "source": [
    "request1 = \"Write a SQL query which computes the average total order value for all orders on 2023-04-01.\"\n",
    "\n",
    "response = openai.ChatCompletion.create(\n",
    "  engine=model,\n",
    "  messages = [{\"role\":\"system\", \"content\":query},\n",
    "               {\"role\":\"user\",\"content\": request1}],\n",
    "  temperature=0,\n",
    "  max_tokens=500,\n",
    "  top_p=1,\n",
    "  frequency_penalty=0,\n",
    "  presence_penalty=0,\n",
    "  stop=[\"#\",\";\"])\n",
    "print(response['choices'][0]['message']['content'])"
   ]
  },
  {
   "cell_type": "code",
   "execution_count": null,
   "metadata": {},
   "outputs": [],
   "source": [
    "request2 = \"한글로 번역:create the 5 questions to answer from tables and show the query\"\n",
    "\n",
    "response = openai.ChatCompletion.create(\n",
    "  engine=model,\n",
    "  messages = [{\"role\":\"system\", \"content\":query},\n",
    "               {\"role\":\"user\",\"content\": request2}],\n",
    "  temperature=0,\n",
    "  max_tokens=500,\n",
    "  top_p=1,\n",
    "  frequency_penalty=0,\n",
    "  presence_penalty=0,\n",
    "  stop=[\"#\",\";\"])\n",
    "print(response['choices'][0]['message']['content'])"
   ]
  },
  {
   "cell_type": "markdown",
   "metadata": {},
   "source": [
    "## 5. Python algorithm"
   ]
  },
  {
   "cell_type": "markdown",
   "metadata": {},
   "source": [
    "### Generate problem statement"
   ]
  },
  {
   "cell_type": "code",
   "execution_count": null,
   "metadata": {},
   "outputs": [],
   "source": [
    "response = openai.ChatCompletion.create(\n",
    "    engine=model,\n",
    "    messages=[\n",
    "        {\n",
    "            \"role\": \"user\", \"content\": \"Generate a coding challenge problem statement with description, \"\n",
    "                                       \"input format, output format, constraints, and example inputs and \"\n",
    "                                       \"outputs.\"\n",
    "        },\n",
    "        {\n",
    "            \"role\": \"assistant\",\n",
    "            \"content\": \"Generate a set of input/output examples with inputs and outputs that can be parsed \"\n",
    "                       \"using ast.literal_eval() in Python. The input/output format must adhere to the \"\n",
    "                       \"following structure:\\n\\n1. In: [input_1]\\nOut: [output_1]\\n2. In: [input_2]\\nOut: [\"\n",
    "                       \"output_2]\\n...\\n\\nPlease ensure that 'In:' and 'Out:' keywords are only used to \"\n",
    "                       \"denote the input and output examples in the response. Additionally, provide examples \"\n",
    "                       \"with a variety of Python literals, including tuples, dictionaries, lists, booleans, \"\n",
    "                       \"and numerical values. Verify that the generated statement contains the 'In:' and \"\n",
    "                       \"'Out:' test cases before returning the result.\"\n",
    "        }\n",
    "    ],\n",
    "    temperature=1,\n",
    "    max_tokens=400,\n",
    "    top_p=1,\n",
    "    frequency_penalty=0,\n",
    "    presence_penalty=0,\n",
    ")"
   ]
  },
  {
   "cell_type": "code",
   "execution_count": null,
   "metadata": {},
   "outputs": [],
   "source": [
    "problem_statement = response.choices[0].message.content.strip()\n",
    "print(problem_statement)"
   ]
  },
  {
   "cell_type": "markdown",
   "metadata": {},
   "source": [
    "### Generate algorithm"
   ]
  },
  {
   "cell_type": "code",
   "execution_count": null,
   "metadata": {},
   "outputs": [],
   "source": [
    "response = openai.ChatCompletion.create(\n",
    "    engine=model,\n",
    "    messages=[{\n",
    "        \"role\": \"user\",\n",
    "        \"content\": f\"{problem_statement}\\n\\nPlease provide a Python function to solve the above problem. The \"\n",
    "                   \"generated code should be complied without any additional modification. So, no comments, \"\n",
    "                   \"markdown, code fence, etc in the response.\"\n",
    "    }],\n",
    "    temperature=0.3,\n",
    "    max_tokens=350,\n",
    "    top_p=1,\n",
    "    frequency_penalty=0,\n",
    "    presence_penalty=0,\n",
    ")"
   ]
  },
  {
   "cell_type": "code",
   "execution_count": null,
   "metadata": {},
   "outputs": [],
   "source": [
    "solution_code = response.choices[0].message.content.strip()\n",
    "print(solution_code)"
   ]
  }
 ],
 "metadata": {
  "kernel_info": {
   "name": "python310-sdkv2"
  },
  "kernelspec": {
   "display_name": "Python 3 (ipykernel)",
   "language": "python",
   "name": "python3"
  },
  "language_info": {
   "codemirror_mode": {
    "name": "ipython",
    "version": 3
   },
   "file_extension": ".py",
   "mimetype": "text/x-python",
   "name": "python",
   "nbconvert_exporter": "python",
   "pygments_lexer": "ipython3",
   "version": "3.10.13"
  },
  "microsoft": {
   "host": {
    "AzureML": {
     "notebookHasBeenCompleted": true
    }
   }
  },
  "nteract": {
   "version": "nteract-front-end@1.0.0"
  }
 },
 "nbformat": 4,
 "nbformat_minor": 2
}
