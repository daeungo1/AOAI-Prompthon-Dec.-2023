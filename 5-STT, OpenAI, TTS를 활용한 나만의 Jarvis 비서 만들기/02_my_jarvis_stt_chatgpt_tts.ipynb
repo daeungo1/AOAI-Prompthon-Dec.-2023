{
 "cells": [
  {
   "cell_type": "markdown",
   "metadata": {},
   "source": [
    "# 나만의 자비스! 음성 비서 만들기\n",
    "OpenAI의 ChatGPT의 **Function Calling** 기능을 활용하면, 아이언맨의 자비스와 같은 인공지능 비서를 만들 수 있습니다.  \n",
    "\n",
    "![](assets/stt_chatgpt_tts.png)\n",
    "\n",
    "한국어 대화도 가능합니다. 실시간 대화 기능을 구현하기 위해서 다음의 기술을 활용할 수 있습니다.  \n",
    "\n",
    "1. 사용자의 음성은 Microsoft Azure가 제공하는 STT(Speech to Text) 서비스를 이용하여 텍스트로 변환합니다.\n",
    "2. 텍스트는 ChatGPT가 제공하는 Function Calling 기능을 활용하여 이미 작성되어진 API 또는 코드를 선택적으로 수행합니다.\n",
    "3. 수행 결과는 다시 Microsoft Azure가 제공하는 TTS(Text to Speech)를 이용하여 대답할 수 있습니다.\n",
    "\n",
    "> **Notes**\n",
    ">- 이 코드는 Python 3.10.11 커널에서 테스트 하였습니다.\n",
    ">- 아래 코드는 PoC 용도입니다. 완벽한 코드가 아니므로 참고용으로 활용할 수 있습니다.\n",
    ">- 해당 STT 및 TTS 기능을 활용하기 위해서는 마이크와 스피커와 같은 Hardware를 필요로 합니다. 개발환경이 컨테이너 기반일 경우, 정상 수행되지 않을 수 있습니다."
   ]
  },
  {
   "cell_type": "code",
   "execution_count": 1,
   "metadata": {},
   "outputs": [],
   "source": [
    "# 데스크톱(로컬)에서 실행하는 경우 입니다. 아래와 같이 라이브러리 재설치가 필요할 수 있습니다.\n",
    "# 먼저 파이썬 런타임을 설치해야 합니다. https://www.python.org/downloads/\n",
    "# !pip install azure-cognitiveservices-speech\n",
    "# !pip install azure-identity\n",
    "# !pip install -r ../requirements.txt"
   ]
  },
  {
   "cell_type": "markdown",
   "metadata": {},
   "source": [
    "실행에 필요한 환경 변수를 가져옵니다. 아래에 필요한 정보를 미리 .env 파일에 저장합니다.\n",
    "\n",
    "1. Azure OpenAI API 정보\n",
    "2. Azure Speech API 정보\n",
    "3. Kakao REST API 정보 (https://developers.kakao.com/console/app)\n",
    "4. openweathermap API 정보 (https://openweathermap.org/current)"
   ]
  },
  {
   "cell_type": "code",
   "execution_count": 2,
   "metadata": {},
   "outputs": [],
   "source": [
    "import azure.cognitiveservices.speech as speechsdk\n",
    "import os\n",
    "import openai\n",
    "import json\n",
    "import requests\n",
    "import pytz\n",
    "from urllib import parse\n",
    "from datetime import datetime\n",
    "from dotenv import load_dotenv\n",
    "load_dotenv()\n",
    "\n",
    "openai.api_type = \"azure\"\n",
    "openai.api_version = \"2023-06-01-preview\"\n",
    "\n",
    "API_KEY = os.getenv(\"OPENAI_API_KEY\",\"\").strip()\n",
    "assert API_KEY, \"ERROR: Azure OpenAI Key is missing\"\n",
    "openai.api_key = API_KEY\n",
    "\n",
    "RESOURCE_ENDPOINT = os.getenv(\"OPENAI_API_BASE\",\"\").strip()\n",
    "assert RESOURCE_ENDPOINT, \"ERROR: Azure OpenAI Endpoint is missing\"\n",
    "assert \"openai.azure.com\" in RESOURCE_ENDPOINT.lower(), \"ERROR: Azure OpenAI Endpoint should be in the form: \\n\\n\\t<your unique endpoint identifier>.openai.azure.com\"\n",
    "openai.api_base = RESOURCE_ENDPOINT\n",
    "\n",
    "model=os.getenv('DEPLOYMENT_NAME')\n",
    "\n",
    "# Azure OpenAI resource 정보를 설정합니다. .env 파일에 설정된 정보를 사용합니다.\n",
    "openai.api_type     = os.getenv(\"OPENAI_API_TYPE\")\n",
    "openai.api_key      = os.getenv(\"OPENAI_API_KEY\")\n",
    "openai.api_base     = os.getenv(\"OPENAI_API_BASE\")\n",
    "openai.api_version  = os.getenv(\"OPENAI_API_VERSION\")       # API 버전은 \"2023-07-01-preview\" 부터 사용 가능합니다.\n",
    "deployment_id       = os.getenv(\"DEPLOYMENT_NAME_16K\")      # Azure OpenAI resource의 deployment id를 입력합니다.\n",
    "KAKAO_API_KEY       = os.getenv(\"KAKAO_REST_API_KEY\")       # KAKAO REST API 키입니다.\n",
    "speech_key          = os.getenv(\"AZURE_SPEECH_KEY\")         # Azure Speech Service의 Speech Key입니다.\n",
    "speech_region       = os.getenv(\"AZURE_SPEECH_REGION\")      # Azure Speech Service의 서비스 지역입니다.\n",
    "speech_language     = os.getenv(\"AZURE_SPEECH_LANGUAGE\")    # Azure Speech Service의 서비스 언어입니다.\n",
    "WEATHER_API_KEY     = os.getenv(\"WEATHER_API_KEY\")          # 날씨 정보를 가져오기 위한 openweathermap API 키입니다."
   ]
  },
  {
   "cell_type": "markdown",
   "metadata": {},
   "source": [
    "### Azure Speech To Text (STT) 엔진으로 사용자 명령을 텍스트로 수집"
   ]
  },
  {
   "cell_type": "code",
   "execution_count": 3,
   "metadata": {},
   "outputs": [],
   "source": [
    "# Azure Cognitive Speech to Text 함수\n",
    "def stt():\n",
    "    # Creates a recognizer with the given settings\n",
    "    # Azure STT & TTS API key\n",
    "    speech_config = speechsdk.SpeechConfig(subscription=speech_key, region=speech_region, speech_recognition_language='ko-KR')\n",
    "    speech_recognizer = speechsdk.SpeechRecognizer(speech_config=speech_config)\n",
    "\n",
    "    print(\"말씀 하세요~\")\n",
    "\n",
    "    # Starts speech recognition, and returns after a single utterance is recognized. The end of a\n",
    "    # single utterance is determined by listening for silence at the end or until a maximum of 15\n",
    "    # seconds of audio is processed.\n",
    "    result = speech_recognizer.recognize_once()\n",
    "\n",
    "    # Checks result.\n",
    "    if result.reason == speechsdk.ResultReason.RecognizedSpeech:\n",
    "        print(\"음성인식결과: {}\".format(result.text))\n",
    "    elif result.reason == speechsdk.ResultReason.NoMatch:\n",
    "        print(\"일치하는 음성이 없습니다.: {}\".format(result.no_match_details))\n",
    "    elif result.reason == speechsdk.ResultReason.Canceled:\n",
    "        cancellation_details = result.cancellation_details\n",
    "        print(\"음성 인식이 취소되었습니다.: {}\".format(\n",
    "            cancellation_details.reason))\n",
    "        if cancellation_details.reason == speechsdk.CancellationReason.Error:\n",
    "            print(\"Error details: {}\".format(\n",
    "                cancellation_details.err+or_details))\n",
    "    return result"
   ]
  },
  {
   "cell_type": "markdown",
   "metadata": {},
   "source": [
    "### Azure Text To Speech (TTS) 엔진으로 텍스트를 읽음"
   ]
  },
  {
   "cell_type": "code",
   "execution_count": 4,
   "metadata": {},
   "outputs": [],
   "source": [
    "# Azure Cognitive Text to Speech 함수\n",
    "def tts(input):\n",
    "    # Set the voice name, refer to https://learn.microsoft.com/ko-kr/azure/ai-services/speech-service/language-support?tabs=tts for full list.\n",
    "    # speech_config.speech_synthesis_voice_name = \"ko-KR-InJoonNeural\"\n",
    "    # Creates a synthesizer with the given settings\n",
    "    # Azure STT & TTS API key\n",
    "    speech_config = speechsdk.SpeechConfig(subscription=speech_key, region=speech_region)\n",
    "    speech_config.speech_synthesis_voice_name = \"ko-KR-SeoHyeonNeural\"\n",
    "    speech_synthesizer = speechsdk.SpeechSynthesizer(speech_config=speech_config)\n",
    "\n",
    "    # Synthesizes the received text to speech.\n",
    "    result = speech_synthesizer.speak_text_async(input).get()\n",
    "\n",
    "    # Checks result.\n",
    "    if result.reason == speechsdk.ResultReason.SynthesizingAudioCompleted:\n",
    "        print(\"Speech synthesized to speaker for text [{}]\".format(input))\n",
    "    elif result.reason == speechsdk.ResultReason.Canceled:\n",
    "        cancellation_details = result.cancellation_details\n",
    "        print(\"Speech synthesis canceled: {}\".format(\n",
    "            cancellation_details.reason))\n",
    "        if cancellation_details.reason == speechsdk.CancellationReason.Error:\n",
    "            if cancellation_details.error_details:\n",
    "                print(\"Error details: {}\".format(\n",
    "                    cancellation_details.error_details))\n",
    "        print(\"Did you update the subscription info?\")"
   ]
  },
  {
   "cell_type": "markdown",
   "metadata": {},
   "source": [
    "### 지명 기반의 위경도 좌표 위치 찾기 (Kakao API 활용)"
   ]
  },
  {
   "cell_type": "code",
   "execution_count": 5,
   "metadata": {},
   "outputs": [],
   "source": [
    "# Kakao REST API를 활용하는 함수 (주소를 위경도 좌표로 변환 포함)\n",
    "headers = {\n",
    "    \"Authorization\": \"KakaoAK \" + KAKAO_API_KEY,\n",
    "    \"Content-Type\": \"application/json\",\n",
    "}    \n",
    "\n",
    "# Kakao 키워드 기반 위경도 좌표 찾기\n",
    "def get_location_xy(keyword=\"한국마이크로소프트\"):\n",
    "    params = {\n",
    "        \"query\": keyword\n",
    "    }\n",
    "    url = \"https://dapi.kakao.com/v2/local/search/keyword.json?\" + parse.urlencode(params)\n",
    "    response = requests.get(url, headers=headers)\n",
    "    return (response.json()[\"documents\"][0])\n",
    "\n",
    "# Convert from seconds to hours, minutes and seconds\n",
    "def convert_second(seconds):\n",
    "    seconds = seconds % (24 * 3600)\n",
    "    hour = seconds // 3600\n",
    "    seconds %= 3600\n",
    "    minutes = seconds // 60\n",
    "    seconds %= 60\n",
    "    \n",
    "    return \"%d시간 %d분 %d초\" % (hour, minutes, seconds)\n",
    "\n",
    "# Convert from meter to kilometer\n",
    "def convert_meter(meter):\n",
    "    return str(round(meter / 1000, 2))\n"
   ]
  },
  {
   "cell_type": "markdown",
   "metadata": {},
   "source": [
    "### Function 1. Kakao Mobility 길찾기 API"
   ]
  },
  {
   "cell_type": "code",
   "execution_count": 6,
   "metadata": {},
   "outputs": [],
   "source": [
    "# Kakao 길찾기 API\n",
    "def get_directions(origin, destination, waypoints=\"\", priority=\"RECOMMEND\", car_fuel=\"GASOLINE\", car_hipass=\"true\", alternatives=\"false\", road_details=\"false\"):\n",
    "    # 키워드 기반 위경도 좌표 정보 수집\n",
    "    xy_info = get_location_xy(origin)\n",
    "    origin_xy_info = xy_info[\"x\"] + \",\" + xy_info[\"y\"] + \",name=\" + xy_info[\"place_name\"]\n",
    "    xy_info = get_location_xy(destination)\n",
    "    destin_xy_info = xy_info[\"x\"] + \",\" + xy_info[\"y\"] + \",name=\" + xy_info[\"place_name\"]\n",
    "    \n",
    "    params = {\n",
    "        \"origin\": origin_xy_info,\n",
    "        \"destination\": destin_xy_info,\n",
    "        \"waypoints\": waypoints,\n",
    "        \"priority\": priority,\n",
    "        \"car_fuel\": car_fuel,\n",
    "        \"car_hipass\": car_hipass,\n",
    "        \"alternatives\": alternatives,\n",
    "        \"road_details\": road_details,\n",
    "    }\n",
    "    url = \"https://apis-navi.kakaomobility.com/v1/directions?{}\".format(\"&\".join([f\"{k}={v}\" for k, v in params.items()]))\n",
    "    response = requests.get(url, headers=headers)\n",
    "    \n",
    "    response_summary = response.json()[\"routes\"][0][\"summary\"]\n",
    "    return_data = {\n",
    "        \"origin_name\": response_summary[\"origin\"][\"name\"],\n",
    "        \"destination_name\": response_summary[\"destination\"][\"name\"],\n",
    "        \"taxi_fare\": response_summary[\"fare\"][\"taxi\"],\n",
    "        \"toll_fare\": response_summary[\"fare\"][\"toll\"],\n",
    "        \"distance\": convert_meter(response_summary[\"distance\"]) + \"km\",\n",
    "        \"duration\": convert_second(response_summary[\"duration\"]),\n",
    "    }\n",
    "    \n",
    "    return json.dumps(return_data)"
   ]
  },
  {
   "cell_type": "markdown",
   "metadata": {},
   "source": [
    "### Function 2. Kakao Mobility 미래 운행 시간 길찾기 API"
   ]
  },
  {
   "cell_type": "code",
   "execution_count": 7,
   "metadata": {},
   "outputs": [],
   "source": [
    "# Kakao 미래 운행 시간 기준 길찾기 API\n",
    "def get_future_directions(origin, destination, departure_time, waypoints=\"\", priority=\"RECOMMEND\", car_fuel=\"GASOLINE\", car_hipass=\"true\", alternatives=\"false\", road_details=\"false\"):\n",
    "    # 키워드 기반 위경도 좌표 정보 수집\n",
    "    xy_info = get_location_xy(origin)\n",
    "    origin_xy_info = xy_info[\"x\"] + \",\" + xy_info[\"y\"] + \",name=\" + xy_info[\"place_name\"]\n",
    "    xy_info = get_location_xy(destination)\n",
    "    destin_xy_info = xy_info[\"x\"] + \",\" + xy_info[\"y\"] + \",name=\" + xy_info[\"place_name\"]\n",
    "    \n",
    "    # 시간 포맷팅을 API에 맞게 수정 요청합니다. (이미 Function Calling 함수내 파라미터 값에 정의하였기에 실행할 필요가 없음)\n",
    "    # print(\"원래 시간: \")\n",
    "    # print(departure_time)\n",
    "    # time_format = openai.ChatCompletion.create(\n",
    "    #     deployment_id=deployment_id,\n",
    "    #     messages=[\n",
    "    #         {\"role\": \"system\", \"content\": \"You are an agent that converts a date or time value to a format of the form: %Y%m%d%H%M\"},\n",
    "    #         {\"role\": \"user\", \"content\": \"2023-11-26T15:30:00\"},\n",
    "    #         {\"role\": \"assistant\", \"content\": \"202311261530\"},\n",
    "    #         {\"role\": \"user\", \"content\": departure_time}\n",
    "    #     ]\n",
    "    # )\n",
    "    # print(\"변경 포맷: \")\n",
    "    # print(time_format[\"choices\"][0][\"message\"][\"content\"])\n",
    "    \n",
    "    params = {\n",
    "        \"origin\": origin_xy_info,\n",
    "        \"destination\": destin_xy_info,\n",
    "        \"waypoints\": waypoints,\n",
    "        \"priority\": priority,\n",
    "        \"car_fuel\": car_fuel,\n",
    "        \"car_hipass\": car_hipass,\n",
    "        \"alternatives\": alternatives,\n",
    "        \"road_details\": road_details,\n",
    "        \"departure_time\": departure_time,\n",
    "    }\n",
    "    url = \"https://apis-navi.kakaomobility.com/v1/future/directions?{}\".format(\"&\".join([f\"{k}={v}\" for k, v in params.items()]))\n",
    "    response = requests.get(url, headers=headers)\n",
    "    \n",
    "    response_summary = response.json()[\"routes\"][0][\"summary\"]\n",
    "    return_data = {\n",
    "        \"origin_name\": response_summary[\"origin\"][\"name\"],\n",
    "        \"destination_name\": response_summary[\"destination\"][\"name\"],\n",
    "        \"taxi_fare\": response_summary[\"fare\"][\"taxi\"],\n",
    "        \"toll_fare\": response_summary[\"fare\"][\"toll\"],\n",
    "        \"distance\": convert_meter(response_summary[\"distance\"]) + \"km\",\n",
    "        \"duration\": convert_second(response_summary[\"duration\"]),\n",
    "    }\n",
    "    \n",
    "    return json.dumps(return_data)\n"
   ]
  },
  {
   "cell_type": "markdown",
   "metadata": {},
   "source": [
    "### Function 3. 실시간 지역 시간 수집"
   ]
  },
  {
   "cell_type": "code",
   "execution_count": 8,
   "metadata": {},
   "outputs": [],
   "source": [
    "def get_current_time(location):\n",
    "    try:\n",
    "        # Get the timezone for the city\n",
    "        timezone = pytz.timezone(location)\n",
    "\n",
    "        # Get the current time in the timezone\n",
    "        now = datetime.now(timezone)\n",
    "        current_time = now.strftime(\"%Y%m%d%H%M\")\n",
    "\n",
    "        return current_time\n",
    "    except:\n",
    "        return \"죄송합니다. 해당 지역의 TimeZone을 찾을 수 없습니다.\""
   ]
  },
  {
   "cell_type": "markdown",
   "metadata": {},
   "source": [
    "### Function 4. 실시간 지역 날씨 수집"
   ]
  },
  {
   "cell_type": "code",
   "execution_count": 9,
   "metadata": {},
   "outputs": [],
   "source": [
    "# 특정 지역의 날씨를 가져오는 함수\n",
    "def get_current_weather(location=\"서울시청\"):\n",
    "    xy_info = get_location_xy(location)\n",
    "    params = {\n",
    "        \"lat\": xy_info[\"y\"],\n",
    "        \"lon\": xy_info[\"x\"],\n",
    "        \"units\": \"metric\",\n",
    "        \"lang\":  \"en\",\n",
    "        \"appid\": WEATHER_API_KEY\n",
    "    }\n",
    "    url = \"https://api.openweathermap.org/data/2.5/weather?{}\".format(\"&\".join([f\"{k}={v}\" for k, v in params.items()]))\n",
    "    response = requests.get(url, headers=headers)\n",
    "\n",
    "    return_data = {\n",
    "        \"Weather_main\": response.json()[\"weather\"][0][\"main\"],\n",
    "        \"Weather_description\": response.json()[\"weather\"][0][\"description\"],\n",
    "        \"Temperature_Celsius\": response.json()[\"main\"][\"temp\"],\n",
    "        \"Humidity\": response.json()[\"main\"][\"humidity\"],\n",
    "        \"Cloudiness\": response.json()[\"clouds\"][\"all\"]\n",
    "    }\n",
    "\n",
    "    return json.dumps(return_data)"
   ]
  },
  {
   "cell_type": "markdown",
   "metadata": {},
   "source": [
    "#### OpenWeatherMap 날씨 API 동작 체크"
   ]
  },
  {
   "cell_type": "code",
   "execution_count": 10,
   "metadata": {},
   "outputs": [
    {
     "name": "stdout",
     "output_type": "stream",
     "text": [
      "{\"Weather_main\": \"Clear\", \"Weather_description\": \"clear sky\", \"Temperature_Celsius\": 15.83, \"Humidity\": 94, \"Cloudiness\": 0}\n"
     ]
    }
   ],
   "source": [
    "# 날씨 정보를 제대로 수집하는지를 확인합니다.\n",
    "response = get_current_weather(\"서울\")\n",
    "print(response)"
   ]
  },
  {
   "cell_type": "markdown",
   "metadata": {},
   "source": [
    "### OpenAI Function Calling에서 활용하려는 함수들을 정의"
   ]
  },
  {
   "cell_type": "code",
   "execution_count": 11,
   "metadata": {},
   "outputs": [],
   "source": [
    "functions = [\n",
    "        {\n",
    "            \"name\": \"get_directions\",\n",
    "            \"description\": \"API to search routes based on origin and destination information\",\n",
    "            # \"description\": \"출발지와 도착지 정보를 기반으로 경로 검색하는 API\",\n",
    "            \"parameters\": {\n",
    "                \"type\": \"object\",\n",
    "                \"properties\": {\n",
    "                    \"origin\": {\"type\": \"string\"},\n",
    "                    \"destination\": {\"type\": \"string\"},                    \n",
    "                },\n",
    "                \"required\": [\"origin\", \"destination\"],\n",
    "            },\n",
    "        },\n",
    "        {\n",
    "            \"name\": \"get_future_directions\",\n",
    "            \"description\": \"API to search routes based on origin and destination information based on future departure_time\",\n",
    "            # \"description\": \"출발지와 도착지 정보를 미래 시간 기반으로 경로 검색하는 API\",\n",
    "            \"parameters\": {\n",
    "                \"type\": \"object\",\n",
    "                \"properties\": {\n",
    "                    \"origin\": {\"type\": \"string\"},\n",
    "                    \"destination\": {\"type\": \"string\"},\n",
    "                    \"departure_time\": {\n",
    "                        \"type\": \"string\",\n",
    "                        \"description\": \"The time format of the given time must be converted to %Y%m%d%H%M format. If there is no year information, 2023 is used as the default. \",\n",
    "                    },\n",
    "                },\n",
    "                \"required\": [\"origin\", \"destination\", \"departure_time\"],\n",
    "            },\n",
    "        },\n",
    "        {\n",
    "            \"name\": \"get_current_time\",\n",
    "            \"description\": \"Get the current time in a given location\",\n",
    "            # \"description\": \"이 지역의 현재 시간을 알려줘.\",\n",
    "            \"parameters\": {\n",
    "                \"type\": \"object\",\n",
    "                \"properties\": {\n",
    "                    \"location\": {\n",
    "                        \"type\": \"string\",\n",
    "                        \"description\": \"The location name. The pytz is used to get the timezone for that location. Location names should be in a format like Asia/Seoul, America/New_York, Asia/Bangkok, Europe/London\"\n",
    "                    }\n",
    "                },\n",
    "                \"required\": [\"location\"],\n",
    "            },\n",
    "        },\n",
    "        {\n",
    "            \"name\": \"get_current_weather\",\n",
    "            \"description\": \"Get the current weather information in a given location\",\n",
    "            # \"description\": \"이 지역의 현재 날씨를 알려줘.\",\n",
    "            \"parameters\": {\n",
    "                \"type\": \"object\",\n",
    "                \"properties\": {\n",
    "                    \"location\": {\n",
    "                        \"type\": \"string\",\n",
    "                        \"description\": \"The city name. City names should be in a format like 서울, 부산, 속초, 대구\"\n",
    "                    }\n",
    "                },\n",
    "                \"required\": [\"location\"],\n",
    "            },\n",
    "        },\n",
    "        \n",
    "    ]\n",
    "\n",
    "available_functions = {\n",
    "            \"get_directions\": get_directions,\n",
    "            \"get_future_directions\": get_future_directions,\n",
    "            \"get_current_time\": get_current_time,\n",
    "            \"get_current_weather\": get_current_weather,\n",
    "        } "
   ]
  },
  {
   "cell_type": "markdown",
   "metadata": {},
   "source": [
    "#### 함수에 제공되는 매개변수가 맞는지 검수하는 함수"
   ]
  },
  {
   "cell_type": "code",
   "execution_count": 12,
   "metadata": {},
   "outputs": [],
   "source": [
    "import inspect\n",
    "\n",
    "# helper method used to check if the correct arguments are provided to a function\n",
    "def check_args(function, args):\n",
    "    sig = inspect.signature(function)\n",
    "    params = sig.parameters\n",
    "\n",
    "    # Check if there are extra arguments\n",
    "    for name in args:\n",
    "        if name not in params:\n",
    "            return False\n",
    "    # Check if the required arguments are provided \n",
    "    for name, param in params.items():\n",
    "        if param.default is param.empty and name not in args:\n",
    "            return False\n",
    "\n",
    "    return True"
   ]
  },
  {
   "cell_type": "markdown",
   "metadata": {},
   "source": [
    "#### OpenAI GPT 모델을 이용하여 사용자 의도에 맞는 함수를 자동 선택하고 실행하는 함수"
   ]
  },
  {
   "cell_type": "code",
   "execution_count": 13,
   "metadata": {},
   "outputs": [],
   "source": [
    "def run_conversation(messages, functions, available_functions, deployment_id):\n",
    "    # Step 1: send the conversation and available functions to GPT\n",
    "    response = openai.ChatCompletion.create(\n",
    "        deployment_id=deployment_id,\n",
    "        messages=messages,\n",
    "        functions=functions,\n",
    "        function_call=\"auto\", \n",
    "    )\n",
    "    response_message = response[\"choices\"][0][\"message\"]\n",
    "\n",
    "    # Step 2: check if GPT wanted to call a function\n",
    "    if response_message.get(\"function_call\"):\n",
    "        # print(\"Recommended Function call:\")\n",
    "        # print(response_message.get(\"function_call\"))\n",
    "        # print()\n",
    "        \n",
    "        # Step 3: call the function\n",
    "        # Note: the JSON response may not always be valid; be sure to handle errors\n",
    "        function_name = response_message[\"function_call\"][\"name\"]\n",
    "        \n",
    "        # verify function exists\n",
    "        if function_name not in available_functions:\n",
    "            return \"Function \" + function_name + \" does not exist\"\n",
    "        fuction_to_call = available_functions[function_name]  \n",
    "        \n",
    "        # verify function has correct number of arguments\n",
    "        function_args = json.loads(response_message[\"function_call\"][\"arguments\"])\n",
    "        if check_args(fuction_to_call, function_args) is False:\n",
    "            return \"Invalid number of arguments for function: \" + function_name\n",
    "        function_response = fuction_to_call(**function_args)\n",
    "        \n",
    "        # print(\"Output of function call:\")\n",
    "        # print(function_response)\n",
    "        # print()\n",
    "        \n",
    "        # Step 4: send the info on the function call and function response to GPT\n",
    "        \n",
    "        # function_name 값에 따른 분기 처리\n",
    "        if function_name == \"get_directions\" or function_name == \"get_future_directions\":\n",
    "            messages.append(\n",
    "                {\"role\": \"system\", \"content\": \"You are a bot that guides you through car routes. When the user provides the origin and destination name, you provides summary route guidance information.\",}\n",
    "            )\n",
    "        elif function_name == \"get_current_weather\":\n",
    "            messages.append(\n",
    "                {\"role\": \"system\", \"content\": \"You are an agent that tells the user about the weather. You describe based on the given data and do not judge and create other sentences.\"},\n",
    "            )\n",
    "        elif function_name == \"get_current_time\":\n",
    "            messages.append(\n",
    "                {\"role\": \"system\", \"content\": \"You are a bot that tells the world time. You describe based on the given data and do not judge and create other sentences.\"},\n",
    "            )\n",
    "        else :\n",
    "            messages.append(\n",
    "                {\"role\": \"system\", \"content\": \"You are an AI assistant that helps people find information. The answer must be judged and answered based on factual data. Please use simple expressions as much as possible.\"},\n",
    "            )\n",
    "        \n",
    "        # adding assistant response to messages\n",
    "        messages.append(\n",
    "            {\n",
    "                \"role\": response_message[\"role\"],\n",
    "                \"name\": response_message[\"function_call\"][\"name\"],\n",
    "                \"content\": response_message[\"function_call\"][\"arguments\"],\n",
    "            }\n",
    "        )\n",
    "\n",
    "        # adding function response to messages\n",
    "        messages.append(\n",
    "            {\n",
    "                \"role\": \"function\",\n",
    "                \"name\": function_name,\n",
    "                \"content\": function_response,\n",
    "            }\n",
    "        )  # extend conversation with function response\n",
    "\n",
    "        # print(\"Messages in second request:\")\n",
    "        # for message in messages:\n",
    "        # print(messages)\n",
    "        # print(json.dumps(messages, ensure_ascii=False, indent=4))\n",
    "\n",
    "        second_response = openai.ChatCompletion.create(\n",
    "            messages=messages,\n",
    "            deployment_id=deployment_id,\n",
    "            temperature=0\n",
    "        )  # get a new response from GPT where it can see the function response\n",
    "        \n",
    "        # print(\"Second Call: \")\n",
    "        # print(second_response)\n",
    "        # print()\n",
    "\n",
    "        return second_response"
   ]
  },
  {
   "cell_type": "markdown",
   "metadata": {},
   "source": [
    "#### GPT 모델에 자연어 기반 질의하는 함수\n",
    "해당 실습에서는 Function Calling에 해당되지 않는 요청하면 종료합니다."
   ]
  },
  {
   "cell_type": "code",
   "execution_count": 14,
   "metadata": {},
   "outputs": [],
   "source": [
    "def gpt(input):\n",
    "    messages = [\n",
    "        {\"role\": \"user\", \"content\": input}\n",
    "    ]\n",
    "    assistant_response = run_conversation(messages, functions, available_functions, deployment_id)\n",
    "    # assistant_response 값이 비어있을 경우\n",
    "    if not assistant_response:\n",
    "        return \"제가 답변 드릴 수 있는 질문이 아닙니다. 다시 질문해주세요.\"\n",
    "    else:\n",
    "        content = json.dumps(assistant_response['choices'][0]['message'][\"content\"], ensure_ascii=False, indent=4)\n",
    "        content = content.replace(\"\\\\n\", \"\\n\").replace(\"\\\\\\\"\", \"\\\"\")\n",
    "        return content\n"
   ]
  },
  {
   "cell_type": "markdown",
   "metadata": {},
   "source": [
    "GPT에 질의하여 각 기능이 정상적으로 동작하는지 살펴 봅니다."
   ]
  },
  {
   "cell_type": "code",
   "execution_count": 15,
   "metadata": {},
   "outputs": [
    {
     "name": "stdout",
     "output_type": "stream",
     "text": [
      "\"서울의 현재 날씨는 맑은 하늘이며, 기온은 섭씨 15.83도입니다. 습도는 94%이고 구름이 거의 없습니다.\"\n"
     ]
    }
   ],
   "source": [
    "future_time = \"\"\n",
    "# future_time = \"2023년 12월 21일 18시에\"\n",
    "origin_name = \"광화문역\"\n",
    "destin_name = \"강남역\"\n",
    "query = f\"{future_time} {origin_name}에서 {destin_name}까지 얼마나 걸려?\"\n",
    "query = \"서울 날씨 어때?\"\n",
    "# query = \"사랑해\"\n",
    "\n",
    "print(gpt(query))"
   ]
  },
  {
   "cell_type": "code",
   "execution_count": 17,
   "metadata": {},
   "outputs": [
    {
     "name": "stdout",
     "output_type": "stream",
     "text": [
      "Speech synthesized to speaker for text [날씨, 길찾기, 시간을 물어보세요.]\n",
      "말씀 하세요~\n",
      "음성인식결과: 강남역에서 광화문역까지 얼마나 걸려?\n",
      "강남역에서 광화문역까지 얼마나 걸려?\n",
      "Speech synthesized to speaker for text [\"강남역에서 광화문역까지는 약 11.5km 거리이며, 차로 약 23분 1초 소요됩니다. 택시 요금은 약 18,000원이며, 톨비는 없습니다.\"]\n",
      "말씀 하세요~\n",
      "음성인식결과: 부산 날씨 알려줘.\n",
      "부산 날씨 알려줘.\n",
      "Speech synthesized to speaker for text [\"부산의 현재 날씨는 흐린 하늘과 구름이 많이 끼어있습니다. 기온은 약 19.98도이며 습도는 88%입니다. 구름이 100%로 많이 끼어있습니다.\"]\n",
      "말씀 하세요~\n",
      "음성인식결과: 서울 지금 몇 시야?\n",
      "서울 지금 몇 시야?\n",
      "Speech synthesized to speaker for text [\"현재 서울의 시간은 2023년 9월 22일 오전 5시 55분입니다.\"]\n",
      "말씀 하세요~\n",
      "음성인식결과: 나가기.\n",
      "나가기.\n",
      "대화 종료\n"
     ]
    }
   ],
   "source": [
    "# if __name__ == \"__main__\":\n",
    "tts(\"날씨, 길찾기, 시간을 물어보세요.\")\n",
    "\n",
    "while True:\n",
    "    result_stt = stt().text\n",
    "    print(result_stt)\n",
    "    if(result_stt == \"\"):\n",
    "        # 음성 인식 실패\n",
    "        print(\"음성 인식 실패\")\n",
    "        tts(\"음성인식에 실패했습니다. 다시 말씀해 주세요.\")\n",
    "    elif(result_stt == \"나가기.\" or result_stt == \"종료.\"):\n",
    "        print(\"대화 종료\")\n",
    "        break\n",
    "    else:\n",
    "        # 음성인식 성공\n",
    "        result_gpt = gpt(result_stt)\n",
    "        tts(result_gpt)"
   ]
  },
  {
   "cell_type": "markdown",
   "metadata": {},
   "source": [
    "이제부터는 **여러분의 API** 를 하나씩 추가해 보세요.\n",
    "수고하셨습니다."
   ]
  }
 ],
 "metadata": {
  "kernelspec": {
   "display_name": "Python 3",
   "language": "python",
   "name": "python3"
  },
  "language_info": {
   "codemirror_mode": {
    "name": "ipython",
    "version": 3
   },
   "file_extension": ".py",
   "mimetype": "text/x-python",
   "name": "python",
   "nbconvert_exporter": "python",
   "pygments_lexer": "ipython3",
   "version": "3.11.4"
  },
  "orig_nbformat": 4
 },
 "nbformat": 4,
 "nbformat_minor": 2
}
