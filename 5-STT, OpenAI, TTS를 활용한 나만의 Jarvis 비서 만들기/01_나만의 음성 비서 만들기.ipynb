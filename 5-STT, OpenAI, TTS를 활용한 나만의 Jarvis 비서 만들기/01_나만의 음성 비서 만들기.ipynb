{
 "cells": [
  {
   "cell_type": "markdown",
   "metadata": {},
   "source": [
    "# 나만의 자비스! 음성 비서 만들기\n",
    "\n",
    "> **Notes**\n",
    ">- 이 코드는 Python 3.11.4 커널에서 테스트 하였습니다.\n",
    ">- 아래 코드는 PoC 용도입니다. 완벽한 코드가 아니므로 참고용으로 활용할 수 있습니다.\n",
    ">- 해당 STT 및 TTS 기능을 활용하기 위해서는 마이크와 스피커와 같은 Hardware를 필요로 합니다. 개발환경이 컨테이너 기반일 경우, 정상 수행되지 않을 수 있습니다."
   ]
  },
  {
   "cell_type": "markdown",
   "metadata": {},
   "source": [
    "## 1. 라이브러리 설치 확인"
   ]
  },
  {
   "cell_type": "code",
   "execution_count": null,
   "metadata": {},
   "outputs": [],
   "source": [
    "# 데스크톱(로컬)에서 실행하는 경우 입니다. 아래와 같이 라이브러리 재설치가 필요할 수 있습니다.\n",
    "# 먼저 파이썬 런타임을 설치해야 합니다. https://www.python.org/downloads/\n",
    "!pip install azure-cognitiveservices-speech\n",
    "!pip install azure-identity\n",
    "!pip install -r ../requirements.txt"
   ]
  },
  {
   "cell_type": "markdown",
   "metadata": {},
   "source": [
    "## 2. 실행 정보 읽기"
   ]
  },
  {
   "cell_type": "code",
   "execution_count": null,
   "metadata": {},
   "outputs": [],
   "source": [
    "import azure.cognitiveservices.speech as speechsdk\n",
    "import os\n",
    "import openai\n",
    "import json\n",
    "import requests\n",
    "import pytz\n",
    "from urllib import parse\n",
    "from datetime import datetime\n",
    "from dotenv import load_dotenv, find_dotenv\n",
    "dotenv_path = find_dotenv(filename='./.env')\n",
    "load_dotenv(dotenv_path=dotenv_path)\n",
    "\n",
    "API_KEY = os.getenv(\"OPENAI_API_KEY\",\"\").strip()\n",
    "assert API_KEY, \"ERROR: Azure OpenAI Key is missing\"\n",
    "openai.api_key = API_KEY\n",
    "\n",
    "RESOURCE_ENDPOINT = os.getenv(\"OPENAI_API_BASE\",\"\").strip()\n",
    "assert RESOURCE_ENDPOINT, \"ERROR: Azure OpenAI Endpoint is missing\"\n",
    "assert \"openai.azure.com\" in RESOURCE_ENDPOINT.lower(), \"ERROR: Azure OpenAI Endpoint should be in the form: \\n\\n\\t<your unique endpoint identifier>.openai.azure.com\"\n",
    "openai.api_base = RESOURCE_ENDPOINT\n",
    "\n",
    "model=os.getenv('DEPLOYMENT_NAME')\n",
    "\n",
    "# Azure OpenAI resource 정보를 설정합니다. .env 파일에 설정된 정보를 사용합니다.\n",
    "openai.api_type     = os.getenv(\"OPENAI_API_TYPE\")\n",
    "openai.api_key      = os.getenv(\"OPENAI_API_KEY\")\n",
    "openai.api_base     = os.getenv(\"OPENAI_API_BASE\")\n",
    "openai.api_version  = os.getenv(\"OPENAI_API_VERSION\")       # API 버전은 \"2023-07-01-preview\" 부터 사용 가능합니다.\n",
    "deployment_id       = os.getenv(\"DEPLOYMENT_NAME_16K\")      # Azure OpenAI resource의 deployment id를 입력합니다.\n",
    "WEATHER_API_KEY     = os.getenv(\"WEATHER_API_KEY\")          # 날씨 정보를 가져오기 위한 openweathermap API 키입니다.\n",
    "TMAP_API_KEY        = os.getenv(\"TMAP_API_KEY\")             # TMAP REST API 키입니다.\n",
    "speech_key          = os.getenv(\"AZURE_SPEECH_KEY\")         # Azure Speech Service의 Speech Key입니다.\n",
    "speech_region       = os.getenv(\"AZURE_SPEECH_REGION\")      # Azure Speech Service의 서비스 지역입니다.\n",
    "speech_language     = os.getenv(\"AZURE_SPEECH_LANGUAGE\")    # Azure Speech Service의 서비스 언어입니다."
   ]
  },
  {
   "cell_type": "markdown",
   "metadata": {},
   "source": [
    "## 3. 함수 정의"
   ]
  },
  {
   "cell_type": "markdown",
   "metadata": {},
   "source": [
    "### Azure Speech To Text (STT) 엔진으로 사용자 명령을 텍스트로 수집"
   ]
  },
  {
   "cell_type": "code",
   "execution_count": null,
   "metadata": {},
   "outputs": [],
   "source": [
    "# Azure Cognitive Speech to Text 함수\n",
    "def stt():\n",
    "    # Creates a recognizer with the given settings\n",
    "    # Azure STT & TTS API key\n",
    "    speech_config = speechsdk.SpeechConfig(subscription=speech_key, region=speech_region, speech_recognition_language='ko-KR')\n",
    "    speech_recognizer = speechsdk.SpeechRecognizer(speech_config=speech_config)\n",
    "\n",
    "    print(\"말씀 하세요~\")\n",
    "\n",
    "    # Starts speech recognition, and returns after a single utterance is recognized. The end of a\n",
    "    # single utterance is determined by listening for silence at the end or until a maximum of 15\n",
    "    # seconds of audio is processed.\n",
    "    result = speech_recognizer.recognize_once()\n",
    "\n",
    "    # Checks result.\n",
    "    if result.reason == speechsdk.ResultReason.RecognizedSpeech:\n",
    "        print(\"음성인식결과: {}\".format(result.text))\n",
    "    elif result.reason == speechsdk.ResultReason.NoMatch:\n",
    "        print(\"일치하는 음성이 없습니다.: {}\".format(result.no_match_details))\n",
    "    elif result.reason == speechsdk.ResultReason.Canceled:\n",
    "        cancellation_details = result.cancellation_details\n",
    "        print(\"음성 인식이 취소되었습니다.: {}\".format(\n",
    "            cancellation_details.reason))\n",
    "        if cancellation_details.reason == speechsdk.CancellationReason.Error:\n",
    "            print(\"Error details: {}\".format(\n",
    "                cancellation_details.err+or_details))\n",
    "    return result"
   ]
  },
  {
   "cell_type": "markdown",
   "metadata": {},
   "source": [
    "### Azure Text To Speech (TTS) 엔진으로 텍스트를 읽음"
   ]
  },
  {
   "cell_type": "code",
   "execution_count": null,
   "metadata": {},
   "outputs": [],
   "source": [
    "# Azure Cognitive Text to Speech 함수\n",
    "def tts(input):\n",
    "    # Set the voice name, refer to https://learn.microsoft.com/ko-kr/azure/ai-services/speech-service/language-support?tabs=tts for full list.\n",
    "    # speech_config.speech_synthesis_voice_name = \"ko-KR-InJoonNeural\"\n",
    "    # Creates a synthesizer with the given settings\n",
    "    # Azure STT & TTS API key\n",
    "    speech_config = speechsdk.SpeechConfig(subscription=speech_key, region=speech_region)\n",
    "    speech_config.speech_synthesis_voice_name = \"ko-KR-SeoHyeonNeural\"\n",
    "    speech_synthesizer = speechsdk.SpeechSynthesizer(speech_config=speech_config)\n",
    "\n",
    "    # Synthesizes the received text to speech.\n",
    "    result = speech_synthesizer.speak_text_async(input).get()\n",
    "\n",
    "    # Checks result.\n",
    "    if result.reason == speechsdk.ResultReason.SynthesizingAudioCompleted:\n",
    "        print(\"Speech synthesized to speaker for text [{}]\".format(input))\n",
    "    elif result.reason == speechsdk.ResultReason.Canceled:\n",
    "        cancellation_details = result.cancellation_details\n",
    "        print(\"Speech synthesis canceled: {}\".format(\n",
    "            cancellation_details.reason))\n",
    "        if cancellation_details.reason == speechsdk.CancellationReason.Error:\n",
    "            if cancellation_details.error_details:\n",
    "                print(\"Error details: {}\".format(\n",
    "                    cancellation_details.error_details))\n",
    "        print(\"Did you update the subscription info?\")"
   ]
  },
  {
   "cell_type": "markdown",
   "metadata": {},
   "source": [
    "### 지명 기반의 위경도 좌표 위치 찾기 (TMAP API 활용)"
   ]
  },
  {
   "cell_type": "code",
   "execution_count": null,
   "metadata": {},
   "outputs": [],
   "source": [
    "# TMAP REST API를 활용하는 함수 (주소를 위경도 좌표로 변환 포함)\n",
    "headers = {\n",
    "    \"Accept\": \"application/json\",\n",
    "    \"appKey\":  TMAP_API_KEY,\n",
    "    \"Content-Type\": \"application/json\"\n",
    "}    \n",
    "\n",
    "# TMAP 키워드 기반 위경도 좌표 찾기\n",
    "def get_location_xy(keyword=\"한국마이크로소프트\"):\n",
    "    params = {\n",
    "        \"searchKeyword\": keyword,\n",
    "        \"version\": 1,\n",
    "        \"count\": 1\n",
    "    }\n",
    "    url = \"https://apis.openapi.sk.com/tmap/pois?\" + parse.urlencode(params)\n",
    "    response = requests.get(url, headers=headers)\n",
    "#     print(response.json())\n",
    "    returnmessage = \"\" \n",
    "    \n",
    "    try:\n",
    "        returnmessage = response.json()[\"searchPoiInfo\"][\"pois\"][\"poi\"][0]\n",
    "#         print(returnmessage)\n",
    "    except:\n",
    "        returnmessage = \"\"\n",
    "    \n",
    "    return (returnmessage)\n",
    "\n",
    "# Convert from seconds to hours, minutes and seconds\n",
    "def convert_second(seconds):\n",
    "    seconds = seconds % (24 * 3600)\n",
    "    hour = seconds // 3600\n",
    "    seconds %= 3600\n",
    "    minutes = seconds // 60\n",
    "    seconds %= 60\n",
    "    \n",
    "    return \"%d시간 %d분 %d초\" % (hour, minutes, seconds)\n",
    "\n",
    "# Convert from seconds to hours and minutes\n",
    "def convert_minute(seconds):\n",
    "    seconds = seconds % (24 * 3600)\n",
    "    hour = seconds // 3600\n",
    "    seconds %= 3600\n",
    "    minutes = seconds // 60\n",
    "    seconds %= 60\n",
    "    \n",
    "    return \"%d시간 %d분\" % (hour, minutes)\n",
    "\n",
    "# Convert from meter to kilometer\n",
    "def convert_meter(meter):\n",
    "    return str(round(meter / 1000, 2))\n",
    "\n",
    "get_location_xy(keyword=\"한국마이크로소프트\")\n"
   ]
  },
  {
   "cell_type": "markdown",
   "metadata": {},
   "source": [
    "### Function 1. TMAP Mobility 길찾기 API"
   ]
  },
  {
   "cell_type": "code",
   "execution_count": null,
   "metadata": {},
   "outputs": [],
   "source": [
    "# TMAP 길찾기 API\n",
    "def get_directions(origin, destination, waypoints=\"\", priority=\"RECOMMEND\", car_fuel=\"GASOLINE\", car_hipass=\"true\", alternatives=\"false\", road_details=\"false\"):\n",
    "    # 키워드 기반 위경도 좌표 정보 수집\n",
    "    return_data={}\n",
    "    try:\n",
    "        xy_info = get_location_xy(origin)\n",
    "        \n",
    "        start_x = xy_info[\"frontLon\"]\n",
    "        start_y = xy_info[\"frontLat\"]\n",
    "        start_name = xy_info[\"name\"]\n",
    "\n",
    "        xy_info = get_location_xy(destination)\n",
    "\n",
    "        end_x = xy_info[\"frontLon\"]\n",
    "        end_y = xy_info[\"frontLat\"]\n",
    "        end_name = xy_info[\"name\"]\n",
    "\n",
    "        body_stage = {\n",
    "            \"startX\": start_x,\n",
    "            \"startY\": start_y,\n",
    "            \"endX\": end_x,\n",
    "            \"endY\": end_y,\n",
    "            \"totalValue\": 2,\n",
    "        }\n",
    "\n",
    "        body = json.dumps(body_stage)\n",
    "\n",
    "        url = \"https://apis.openapi.sk.com/tmap/routes?version=1&callback=function\"\n",
    "        response = requests.post(url, headers=headers, data=body)\n",
    "\n",
    "        response_summary = response.json()[\"features\"][0][\"properties\"]\n",
    "#         print(response_summary)\n",
    "        return_data = {\n",
    "            \"origin_name\": start_name,\n",
    "            \"destination_name\": end_name,\n",
    "            \"taxi_fare\": response_summary[\"taxiFare\"],\n",
    "            \"tall_fare\": response_summary[\"totalFare\"],\n",
    "            \"distance\": convert_meter(response_summary[\"totalDistance\"]) + \"km\",\n",
    "            \"duration\": convert_minute(response_summary[\"totalTime\"]),\n",
    "        }\n",
    "\n",
    "    except Exception as e:\n",
    "        print(e)\n",
    "        return \"말씀하신 위치를 찾을수 없습니다.\"\n",
    "\n",
    "    return json.dumps(return_data)"
   ]
  },
  {
   "cell_type": "markdown",
   "metadata": {},
   "source": [
    "### Function 2. 실시간 지역 시간 수집"
   ]
  },
  {
   "cell_type": "code",
   "execution_count": null,
   "metadata": {},
   "outputs": [],
   "source": [
    "def get_current_time(location):\n",
    "    try:\n",
    "        # Get the timezone for the city\n",
    "        timezone = pytz.timezone(location)\n",
    "\n",
    "        # Get the current time in the timezone\n",
    "        now = datetime.now(timezone)\n",
    "        current_time = now.strftime(\"%Y%m%d%H%M\")\n",
    "\n",
    "        return current_time\n",
    "    except:\n",
    "        return \"죄송합니다. 해당 지역의 TimeZone을 찾을 수 없습니다.\""
   ]
  },
  {
   "cell_type": "markdown",
   "metadata": {},
   "source": [
    "### Function 3. 실시간 지역 날씨 수집"
   ]
  },
  {
   "cell_type": "code",
   "execution_count": null,
   "metadata": {},
   "outputs": [],
   "source": [
    "# 특정 지역의 날씨를 가져오는 함수\n",
    "def get_current_weather(location=\"서울시청\"):\n",
    "    xy_info = get_location_xy(location)\n",
    "    params = {\n",
    "        \"lat\": xy_info[\"frontLat\"],\n",
    "        \"lon\": xy_info[\"frontLon\"],\n",
    "        \"units\": \"metric\",\n",
    "        \"lang\":  \"en\",\n",
    "        \"exclude\": \"current\",\n",
    "        \"appid\": WEATHER_API_KEY\n",
    "    }\n",
    "    url = \"https://api.openweathermap.org/data/2.5/weather?{}\".format(\"&\".join([f\"{k}={v}\" for k, v in params.items()]))\n",
    "\n",
    "    response = requests.get(url, headers=headers)\n",
    "    \n",
    "    return_data = {\n",
    "        \"Weather_main\": response.json()[\"weather\"][0][\"main\"],\n",
    "        \"Weather_description\": response.json()[\"weather\"][0][\"description\"],\n",
    "        \"Temperature_Celsius\": response.json()[\"main\"][\"temp\"],\n",
    "        \"Humidity\": response.json()[\"main\"][\"humidity\"],\n",
    "        \"Cloudiness\": response.json()[\"clouds\"][\"all\"]\n",
    "    }\n",
    "\n",
    "    return json.dumps(return_data)"
   ]
  },
  {
   "cell_type": "markdown",
   "metadata": {},
   "source": [
    "### OpenAI Function Calling에서 활용하려는 함수들을 정의"
   ]
  },
  {
   "cell_type": "code",
   "execution_count": null,
   "metadata": {},
   "outputs": [],
   "source": [
    "functions = [\n",
    "        {\n",
    "            \"name\": \"get_directions\",\n",
    "            \"description\": \"API to search routes based on origin and destination information by car\",\n",
    "            # \"description\": \"출발지와 도착지 정보를 기반으로 경로 검색하는 API\",\n",
    "            \"parameters\": {\n",
    "                \"type\": \"object\",\n",
    "                \"properties\": {\n",
    "                    \"origin\": {\"type\": \"string\"},\n",
    "                    \"destination\": {\"type\": \"string\"},                    \n",
    "                },\n",
    "                \"required\": [\"origin\", \"destination\"],\n",
    "            },\n",
    "        },\n",
    "        {\n",
    "            \"name\": \"get_current_time\",\n",
    "            \"description\": \"Get the current time in a given location\",\n",
    "            # \"description\": \"이 지역의 현재 시간을 알려줘.\",\n",
    "            \"parameters\": {\n",
    "                \"type\": \"object\",\n",
    "                \"properties\": {\n",
    "                    \"location\": {\n",
    "                        \"type\": \"string\",\n",
    "                        \"description\": \"The location name. The pytz is used to get the timezone for that location. Location names should be in a format like Asia/Seoul, America/New_York, Asia/Bangkok, Europe/London\"\n",
    "                    }\n",
    "                },\n",
    "                \"required\": [\"location\"],\n",
    "            },\n",
    "        },\n",
    "        {\n",
    "            \"name\": \"get_current_weather\",\n",
    "            \"description\": \"Get the current weather information in a given location\",\n",
    "            # \"description\": \"이 지역의 현재 날씨를 알려줘.\",\n",
    "            \"parameters\": {\n",
    "                \"type\": \"object\",\n",
    "                \"properties\": {\n",
    "                    \"location\": {\n",
    "                        \"type\": \"string\",\n",
    "                        \"description\": \"The city name. City names should be in a format like 서울, 부산, 속초, 대구\"\n",
    "                    }\n",
    "                },\n",
    "                \"required\": [\"location\"],\n",
    "            },\n",
    "        }\n",
    " ]\n",
    "\n",
    "available_functions = {\n",
    "            \"get_directions\": get_directions,\n",
    "            \"get_current_time\": get_current_time,\n",
    "            \"get_current_weather\": get_current_weather,\n",
    "        } "
   ]
  },
  {
   "cell_type": "markdown",
   "metadata": {},
   "source": [
    "#### 함수에 제공되는 매개변수가 맞는지 검수하는 함수"
   ]
  },
  {
   "cell_type": "code",
   "execution_count": null,
   "metadata": {},
   "outputs": [],
   "source": [
    "import inspect\n",
    "\n",
    "# helper method used to check if the correct arguments are provided to a function\n",
    "def check_args(function, args):\n",
    "    sig = inspect.signature(function)\n",
    "    params = sig.parameters\n",
    "\n",
    "    # Check if there are extra arguments\n",
    "    for name in args:\n",
    "        if name not in params:\n",
    "            return False\n",
    "    # Check if the required arguments are provided \n",
    "    for name, param in params.items():\n",
    "        if param.default is param.empty and name not in args:\n",
    "            return False\n",
    "\n",
    "    return True"
   ]
  },
  {
   "cell_type": "markdown",
   "metadata": {},
   "source": [
    "#### OpenAI GPT 모델을 이용하여 사용자 의도에 맞는 함수를 자동 선택하고 실행하는 함수"
   ]
  },
  {
   "cell_type": "code",
   "execution_count": null,
   "metadata": {},
   "outputs": [],
   "source": [
    "def run_conversation(messages, functions, available_functions, deployment_id):\n",
    "    # Step 1: send the conversation and available functions to GPT\n",
    "    response = openai.ChatCompletion.create(\n",
    "        deployment_id=deployment_id,\n",
    "        messages=messages,\n",
    "        functions=functions,\n",
    "        function_call=\"auto\", \n",
    "    )\n",
    "    response_message = response[\"choices\"][0][\"message\"]\n",
    "\n",
    "    # Step 2: check if GPT wanted to call a function\n",
    "    if response_message.get(\"function_call\"):\n",
    "        \n",
    "        # Step 3: call the function\n",
    "        # Note: the JSON response may not always be valid; be sure to handle errors\n",
    "        function_name = response_message[\"function_call\"][\"name\"]\n",
    "        \n",
    "        # verify function exists\n",
    "        if function_name not in available_functions:\n",
    "            return \"Function \" + function_name + \" does not exist\"\n",
    "        fuction_to_call = available_functions[function_name]  \n",
    "        \n",
    "        # verify function has correct number of arguments\n",
    "        function_args = json.loads(response_message[\"function_call\"][\"arguments\"])\n",
    "        if check_args(fuction_to_call, function_args) is False:\n",
    "            return \"Invalid number of arguments for function: \" + function_name\n",
    "        function_response = fuction_to_call(**function_args)\n",
    "        \n",
    "        # Step 4: send the info on the function call and function response to GPT\n",
    "        \n",
    "        # function_name 값에 따른 분기 처리\n",
    "        if function_name == \"get_directions\":\n",
    "            messages.append(\n",
    "                {\"role\": \"system\", \"content\": \"You are a bot that guides you through car routes. When the user provides the origin and destination name, you provides summary route guidance information.\",}\n",
    "            )\n",
    "        elif function_name == \"get_current_weather\":\n",
    "            messages.append(\n",
    "                {\"role\": \"system\", \"content\": \"You are an agent that tells the user about the weather. You describe based on the given data and do not judge and create other sentences.\"},\n",
    "            )\n",
    "        elif function_name == \"get_current_time\":\n",
    "            messages.append(\n",
    "                {\"role\": \"system\", \"content\": \"You are a bot that tells the world time. You describe based on the given data and do not judge and create other sentences.\"},\n",
    "            )\n",
    "        else :\n",
    "            messages.append(\n",
    "                {\"role\": \"system\", \"content\": \"You are an AI assistant that helps people find information. The answer must be judged and answered based on factual data. Please use simple expressions as much as possible.\"},\n",
    "            )\n",
    "        \n",
    "        # adding assistant response to messages\n",
    "        messages.append(\n",
    "            {\n",
    "                \"role\": response_message[\"role\"],\n",
    "                \"name\": response_message[\"function_call\"][\"name\"],\n",
    "                \"content\": response_message[\"function_call\"][\"arguments\"],\n",
    "            }\n",
    "        )\n",
    "\n",
    "        # adding function response to messages\n",
    "        messages.append(\n",
    "            {\n",
    "                \"role\": \"function\",\n",
    "                \"name\": function_name,\n",
    "                \"content\": function_response,\n",
    "            }\n",
    "        )  # extend conversation with function response\n",
    "\n",
    "        second_response = openai.ChatCompletion.create(\n",
    "            messages=messages,\n",
    "            deployment_id=deployment_id,\n",
    "            temperature=0\n",
    "        )  # get a new response from GPT where it can see the function response\n",
    "\n",
    "        return second_response"
   ]
  },
  {
   "cell_type": "markdown",
   "metadata": {},
   "source": [
    "#### GPT 모델에 자연어 기반 질의하는 함수\n",
    "해당 실습에서는 Function Calling에 해당되지 않는 요청하면 종료합니다."
   ]
  },
  {
   "cell_type": "code",
   "execution_count": null,
   "metadata": {},
   "outputs": [],
   "source": [
    "def gpt(input):\n",
    "    messages = [\n",
    "        {\"role\": \"user\", \"content\": input}\n",
    "    ]\n",
    "    assistant_response = run_conversation(messages, functions, available_functions, deployment_id)\n",
    "    # assistant_response 값이 비어있을 경우\n",
    "    if not assistant_response:\n",
    "        return \"제가 답변 드릴 수 있는 질문이 아닙니다. 다시 질문해주세요.\"\n",
    "    else:\n",
    "        content = json.dumps(assistant_response['choices'][0]['message'][\"content\"], ensure_ascii=False, indent=4)\n",
    "        content = content.replace(\"\\\\n\", \"\\n\").replace(\"\\\\\\\"\", \"\\\"\")\n",
    "        return content\n"
   ]
  },
  {
   "cell_type": "markdown",
   "metadata": {},
   "source": [
    "## 4. 실행"
   ]
  },
  {
   "cell_type": "code",
   "execution_count": null,
   "metadata": {},
   "outputs": [],
   "source": [
    "origin_name = \"광화문역\"\n",
    "destin_name = \"강남역\"\n",
    "query_1st = f\"{origin_name}에서 {destin_name}까지 얼마나 걸려?\"\n",
    "print(gpt(query_1st))\n",
    "\n",
    "query_2nd = \"경기도 날씨 어때?\"\n",
    "print(gpt(query_2nd))\n"
   ]
  },
  {
   "cell_type": "markdown",
   "metadata": {},
   "source": [
    "#### Local PC 실행시에만 STT/TTS가 동작하여 아래 코드 실행 가능, Github codespace에서 기본으로는 제공되지 않음"
   ]
  },
  {
   "cell_type": "code",
   "execution_count": null,
   "metadata": {},
   "outputs": [],
   "source": [
    "# # if __name__ == \"__main__\":\n",
    "# tts(\"날씨, 길찾기, 시간을 물어보세요.\")\n",
    "\n",
    "# while True:\n",
    "#     result_stt = stt().text\n",
    "#     print(result_stt)\n",
    "#     if(result_stt == \"\"):\n",
    "#         # 음성 인식 실패\n",
    "#         print(\"음성 인식 실패\")\n",
    "#         tts(\"음성인식에 실패했습니다. 다시 말씀해 주세요.\")\n",
    "#     elif(result_stt == \"나가기.\" or result_stt == \"종료.\"):\n",
    "#         print(\"대화 종료\")\n",
    "#         break\n",
    "#     else:\n",
    "#         # 음성인식 성공\n",
    "#         result_gpt = gpt(result_stt)\n",
    "#         tts(result_gpt)"
   ]
  },
  {
   "cell_type": "code",
   "execution_count": null,
   "metadata": {},
   "outputs": [],
   "source": []
  }
 ],
 "metadata": {
  "kernelspec": {
   "display_name": "Python 3 (ipykernel)",
   "language": "python",
   "name": "python3"
  },
  "language_info": {
   "codemirror_mode": {
    "name": "ipython",
    "version": 3
   },
   "file_extension": ".py",
   "mimetype": "text/x-python",
   "name": "python",
   "nbconvert_exporter": "python",
   "pygments_lexer": "ipython3",
   "version": "3.10.8"
  }
 },
 "nbformat": 4,
 "nbformat_minor": 2
}
